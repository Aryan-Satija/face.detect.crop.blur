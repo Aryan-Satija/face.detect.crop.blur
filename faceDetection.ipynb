{
 "cells": [
  {
   "cell_type": "code",
   "execution_count": 1,
   "id": "87301438-da6e-4540-b8f5-6f02aade04b1",
   "metadata": {},
   "outputs": [],
   "source": [
    "import numpy as np\n",
    "import cv2 as cv"
   ]
  },
  {
   "cell_type": "code",
   "execution_count": 2,
   "id": "df92387f-0f83-41c7-9d76-e11134398cf9",
   "metadata": {},
   "outputs": [],
   "source": [
    "classifier = cv.CascadeClassifier('haarcascade_frontalface_default.xml')"
   ]
  },
  {
   "cell_type": "markdown",
   "id": "32e47c03-d1e5-4a76-9d07-89e0ae030727",
   "metadata": {},
   "source": [
    "## Face Detection"
   ]
  },
  {
   "cell_type": "code",
   "execution_count": 17,
   "id": "1fbe1f4c-2d5d-4afa-85c0-d05a07f021c0",
   "metadata": {},
   "outputs": [],
   "source": [
    "cam = cv.VideoCapture(0)\n",
    "\n",
    "while True:\n",
    "    isCaptured, frame = cam.read()\n",
    "    frame = cv.flip(frame, 1)\n",
    "\n",
    "    if isCaptured:\n",
    "        try:\n",
    "            faces = classifier.detectMultiScale(frame, 1.9, 5)\n",
    "            for (x, y, w, h) in faces:\n",
    "                cv.rectangle(frame, (x, y), (x + w, y + h), (0, 0, 0), 2)\n",
    "        except:\n",
    "            pass\n",
    "        cv.imshow('Frame', frame)\n",
    "        \n",
    "        key = cv.waitKey(1)\n",
    "\n",
    "        if key == 27:\n",
    "            cam.release()\n",
    "            break\n",
    "            \n",
    "    else:\n",
    "        cam.release()\n",
    "        break\n",
    "    "
   ]
  },
  {
   "cell_type": "markdown",
   "id": "8b1850ee-33b1-4114-9f48-3e876be09501",
   "metadata": {},
   "source": [
    "## Face Crop"
   ]
  },
  {
   "cell_type": "code",
   "execution_count": 19,
   "id": "913d9c70-93ac-459f-9271-d023c6313ddd",
   "metadata": {},
   "outputs": [],
   "source": [
    "cam = cv.VideoCapture(0)\n",
    "\n",
    "while True:\n",
    "    isCaptured, frame = cam.read()\n",
    "    frame = cv.flip(frame, 1)\n",
    "    if isCaptured:    \n",
    "        try:\n",
    "            faces = classifier.detectMultiScale(frame, 1.9, 5);\n",
    "            face_with_max_area = []\n",
    "            max_area = 0\n",
    "            for (x, y, w, h) in faces:\n",
    "                if w*h > max_area:\n",
    "                    max_area = w*h\n",
    "                    face_with_max_area = [x, y, w, h]\n",
    "    \n",
    "            if len(faces) > 0:\n",
    "                (x, y, w, h) = face_with_max_area\n",
    "                cv.rectangle(frame, (x, y), (x + w, y + h), (0, 0, 0), 2)\n",
    "                face = frame[y : y + h, x : x + w]\n",
    "                cv.imshow(\"face\", face)\n",
    "        except:\n",
    "            pass\n",
    "        \n",
    "        cv.imshow(\"frame\", frame)\n",
    "\n",
    "        key = cv.waitKey(1)\n",
    "        if key == 27:\n",
    "            cam.release()\n",
    "            break\n",
    "    else:\n",
    "        cam.release()\n",
    "        break"
   ]
  },
  {
   "cell_type": "markdown",
   "id": "655f0e97-0791-422e-8717-d5f6dd91f85e",
   "metadata": {},
   "source": [
    "## Face Blur"
   ]
  },
  {
   "cell_type": "code",
   "execution_count": 7,
   "id": "5fc8dca2-d961-48ed-b918-4f4a3ba99948",
   "metadata": {},
   "outputs": [],
   "source": [
    "cam = cv.VideoCapture(0)\n",
    "\n",
    "while True:\n",
    "    isCaptured, frame = cam.read()\n",
    "    frame = cv.flip(frame, 1)\n",
    "    if isCaptured:    \n",
    "        try:\n",
    "            faces = classifier.detectMultiScale(frame, 1.9, 3);\n",
    "            for face in faces:\n",
    "                (x, y, w, h) = face\n",
    "                blurred_face = cv.blur(frame[y - 50: y + h + 50, x : x + w], (16, 16))\n",
    "                frame[y - 50 : y + h + 50, x : x + w] = blurred_face\n",
    "        except:\n",
    "            pass\n",
    "        \n",
    "        cv.imshow(\"frame\", frame)\n",
    "\n",
    "        key = cv.waitKey(1)\n",
    "        if key == 27:\n",
    "            cam.release()\n",
    "            break\n",
    "    else:\n",
    "        cam.release()\n",
    "        break"
   ]
  },
  {
   "cell_type": "code",
   "execution_count": null,
   "id": "33a7df94-e681-44d9-a57f-329bfa23b26d",
   "metadata": {},
   "outputs": [],
   "source": []
  }
 ],
 "metadata": {
  "kernelspec": {
   "display_name": "Python 3 (ipykernel)",
   "language": "python",
   "name": "python3"
  },
  "language_info": {
   "codemirror_mode": {
    "name": "ipython",
    "version": 3
   },
   "file_extension": ".py",
   "mimetype": "text/x-python",
   "name": "python",
   "nbconvert_exporter": "python",
   "pygments_lexer": "ipython3",
   "version": "3.11.7"
  }
 },
 "nbformat": 4,
 "nbformat_minor": 5
}
